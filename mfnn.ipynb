{
 "cells": [
  {
   "cell_type": "code",
   "execution_count": 1,
   "metadata": {
    "collapsed": false,
    "deletable": true,
    "editable": true
   },
   "outputs": [],
   "source": [
    "#--- ref: goo.gl/r3HQNE\n",
    "#--- ref: Jupyter / IPython: After editing a module, changes are not effective without kernel restart\n",
    "%load_ext autoreload\n",
    "%autoreload 2\n",
    "\n",
    "%matplotlib inline\n",
    "%config InlineBackend.figure_format = 'retina'\n"
   ]
  },
  {
   "cell_type": "code",
   "execution_count": null,
   "metadata": {
    "collapsed": false,
    "deletable": true,
    "editable": true
   },
   "outputs": [
    {
     "name": "stdout",
     "output_type": "stream",
     "text": [
      "---------------------------------------\n",
      "Neural network layers (inputs, outputs)\n",
      "---------------------------------------\n",
      "Dense: (58, 32)\n",
      "Leaky ReLU: (32, 32)\n",
      "Dense: (32, 32)\n",
      "Leaky ReLU: (32, 32)\n",
      "Dense: (32, 1)\n",
      "Activation(Default Linear): (1, 1)\n",
      "---------------------------------------\n",
      "Epoch 335 of 600 | Loss: 0.002846 | Validation Loss: 0.002896 | Accuracy: 0.896530\r"
     ]
    }
   ],
   "source": [
    "import mfnn_factory as fac\n",
    "import mfnn_graph as graph\n",
    "\n",
    "#--- create data sets\n",
    "training_data, validation_data, test_data = fac.create_np_data_sets()\n",
    "inputs, targets = training_data\n",
    "test_features, test_targets_z, datetimes, mean, std = test_data\n",
    "\n",
    "#--- create neural network\n",
    "mfnn = fac.create_mfnn(input_size=inputs.shape[2])\n",
    "mfnn.summary()\n",
    "\n",
    "#--- train the neural network\n",
    "training_losses, validation_losses, accuracies = mfnn.fit(inputs, targets, \n",
    "                              learning_rate=0.25, epochs=600, batch_size=1024, \n",
    "                              validation_data=validation_data)\n"
   ]
  },
  {
   "cell_type": "code",
   "execution_count": null,
   "metadata": {
    "collapsed": false,
    "deletable": true,
    "editable": true
   },
   "outputs": [],
   "source": [
    "#--- display the training loss over epoch\n",
    "graph.plot_losses(training_losses, validation_losses)\n"
   ]
  },
  {
   "cell_type": "code",
   "execution_count": null,
   "metadata": {
    "collapsed": false,
    "deletable": true,
    "editable": true
   },
   "outputs": [],
   "source": [
    "#--- display accuracy\n",
    "graph.plot_accuracies(accuracies)"
   ]
  },
  {
   "cell_type": "code",
   "execution_count": null,
   "metadata": {
    "collapsed": false,
    "deletable": true,
    "editable": true
   },
   "outputs": [],
   "source": [
    "#--- predict bike usage\n",
    "predictions_z = mfnn.predict_on_batch(test_features)\n",
    "\n",
    "#--- convert predictions from z_score to a raw value\n",
    "predicted_values = predictions_z * std + mean\n",
    "actual_values    = test_targets_z * std + mean\n",
    "\n",
    "#--- plot the predictions against the actual values for a 24 hour period\n",
    "graph.plot_predictions_24hr(predicted_values, actual_values, datetimes, \"2012-12-20\")"
   ]
  },
  {
   "cell_type": "code",
   "execution_count": null,
   "metadata": {
    "collapsed": false,
    "deletable": true,
    "editable": true
   },
   "outputs": [],
   "source": [
    "#--- display predicted vs actual usage for all data on a line chart\n",
    "graph.plot_predictions(predicted_values, actual_values, datetimes)"
   ]
  }
 ],
 "metadata": {
  "anaconda-cloud": {},
  "kernelspec": {
   "display_name": "Python [conda env:aind-dl]",
   "language": "python",
   "name": "conda-env-aind-dl-py"
  },
  "language_info": {
   "codemirror_mode": {
    "name": "ipython",
    "version": 3
   },
   "file_extension": ".py",
   "mimetype": "text/x-python",
   "name": "python",
   "nbconvert_exporter": "python",
   "pygments_lexer": "ipython3",
   "version": "3.5.3"
  }
 },
 "nbformat": 4,
 "nbformat_minor": 2
}
